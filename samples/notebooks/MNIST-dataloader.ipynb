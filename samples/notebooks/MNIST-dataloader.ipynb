{
 "cells": [
  {
   "metadata": {},
   "cell_type": "code",
   "source": [
    "USE {\n",
    "    repositories {\n",
    "        mavenCentral()\n",
    "    }\n",
    "\n",
    "    dependencies {\n",
    "        implementation(\"io.ktor:ktor-client-core:3.1.3\")\n",
    "        implementation(\"io.ktor:ktor-client-cio:3.1.3\")\n",
    "        implementation(\"io.ktor:ktor-client-plugins:3.1.1\")\n",
    "        implementation(\"io.ktor:ktor-client-logging:3.1.3\")\n",
    "        implementation(\"io.ktor:ktor-client-content-negotiation:3.1.3\")\n",
    "        implementation(\"org.jetbrains.kotlinx:kotlinx-coroutines-core-jvm:1.8.1\")\n",
    "        implementation(\"ch.qos.logback:logback-classic:1.4.14\") // For logging\n",
    "    }\n",
    "}"
   ],
   "outputs": [],
   "execution_count": null
  },
  {
   "metadata": {},
   "cell_type": "code",
   "source": [
    "import io.ktor.client.HttpClient\n",
    "import io.ktor.client.engine.cio.CIO\n",
    "import io.ktor.client.plugins.logging.Logging\n",
    "import io.ktor.client.request.get\n",
    "import io.ktor.client.request.headers\n",
    "import io.ktor.utils.io.jvm.javaio.copyTo\n",
    "import io.ktor.utils.io.core.use\n",
    "import io.ktor.client.call.body\n",
    "import io.ktor.client.plugins.onDownload\n",
    "import io.ktor.client.plugins.contentnegotiation.ContentNegotiation\n",
    "import io.ktor.client.request.get\n",
    "import java.io.File\n",
    "import io.ktor.client.statement.bodyAsChannel\n",
    "import io.ktor.utils.io.copyAndClose\n"
   ],
   "outputs": [],
   "execution_count": null
  },
  {
   "metadata": {},
   "cell_type": "code",
   "source": [
    "import io.ktor.client.statement.HttpResponse\n",
    "\n",
    "suspend fun downloadFile(urlStr: String, outputPath: String) {\n",
    "    val client = HttpClient(CIO) {\n",
    "        install(Logging)\n",
    "    }\n",
    "    // This is the correct way to initialize the HttpClient with CIO\n",
    "    try {\n",
    "        val file = File(outputPath)\n",
    "\n",
    "        val httpClient = HttpClient {\n",
    "            install(Logging)\n",
    "        }\n",
    "\n",
    "        val httpResponse: HttpResponse = client.get(urlStr) {\n",
    "            onDownload { bytesSentTotal, contentLength ->\n",
    "                println(\"Received $bytesSentTotal bytes from $contentLength\")\n",
    "            }\n",
    "        }\n",
    "        val responseBody: ByteArray = httpResponse.body()\n",
    "        file.writeBytes(responseBody)\n",
    "        println(\"A file saved to ${file.path}\")\n",
    "\n",
    "    } finally {\n",
    "        client.close()\n",
    "    }\n",
    "}"
   ],
   "outputs": [],
   "execution_count": null
  },
  {
   "metadata": {},
   "cell_type": "code",
   "source": [
    "import java.io.File\n",
    "import java.io.FileInputStream\n",
    "import java.io.FileOutputStream\n",
    "import java.util.zip.GZIPInputStream\n",
    "\n",
    "fun decompressGzipFile(gzipFilePath: String, outputFilePath: String) {\n",
    "    GZIPInputStream(FileInputStream(gzipFilePath)).use { gzipInputStream ->\n",
    "        FileOutputStream(outputFilePath).use { outputStream ->\n",
    "            val buffer = ByteArray(1024)\n",
    "            var len: Int\n",
    "            while (gzipInputStream.read(buffer).also { len = it } > 0) {\n",
    "                outputStream.write(buffer, 0, len)\n",
    "            }\n",
    "        }\n",
    "    }\n",
    "    println(\"Decompressed $gzipFilePath to $outputFilePath\")\n",
    "}"
   ],
   "outputs": [],
   "execution_count": null
  },
  {
   "cell_type": "code",
   "metadata": {
    "collapsed": true
   },
   "source": [
    "\n",
    "import kotlinx.coroutines.runBlocking\n",
    "import java.nio.file.Files\n",
    "import java.nio.file.Paths\n",
    "import java.util.zip.GZIPOutputStream\n",
    "\n",
    "fun downloadMnistDataset() = runBlocking {\n",
    "    val urls = mapOf(\n",
    "        \"train-images-idx3-ubyte.gz\" to \"https://ossci-datasets.s3.amazonaws.com/mnist/train-images-idx3-ubyte.gz\",\n",
    "        \"train-labels-idx1-ubyte.gz\" to \"https://ossci-datasets.s3.amazonaws.com/mnist/train-labels-idx1-ubyte.gz\",\n",
    "        \"t10k-images-idx3-ubyte.gz\" to \"https://ossci-datasets.s3.amazonaws.com/mnist/t10k-images-idx3-ubyte.gz\",\n",
    "        \"t10k-labels-idx1-ubyte.gz\" to \"https://ossci-datasets.s3.amazonaws.com/mnist/t10k-labels-idx1-ubyte.gz\"\n",
    "    )\n",
    "\n",
    "    // https://ossci-datasets.s3.amazonaws.com/mnist/train-images-idx3-ubyte.gz\n",
    "\n",
    "    urls.forEach { (fileName, url) ->\n",
    "        val outputPath = Paths.get(fileName).toString()\n",
    "        if (!Files.exists(Paths.get(outputPath))) {\n",
    "            downloadFile(url, outputPath)\n",
    "        } else {\n",
    "            println(\"$fileName already exists. Skipping download.\")\n",
    "        }\n",
    "    }\n",
    "}\n",
    "\n",
    "fun decompress() {\n",
    "    val gzipFiles = listOf(\n",
    "        \"train-images-idx3-ubyte.gz\",\n",
    "        \"train-labels-idx1-ubyte.gz\",\n",
    "        \"t10k-images-idx3-ubyte.gz\",\n",
    "        \"t10k-labels-idx1-ubyte.gz\"\n",
    "    )\n",
    "\n",
    "    gzipFiles.forEach { gzipFile ->\n",
    "        val outputFile = gzipFile.removeSuffix(\".gz\")\n",
    "        decompressGzipFile(gzipFile, outputFile)\n",
    "    }\n",
    "}\n"
   ],
   "outputs": [],
   "execution_count": null
  },
  {
   "metadata": {},
   "cell_type": "code",
   "source": "downloadMnistDataset()",
   "outputs": [],
   "execution_count": null
  },
  {
   "metadata": {},
   "cell_type": "code",
   "source": "decompress()",
   "outputs": [],
   "execution_count": null
  },
  {
   "metadata": {},
   "cell_type": "code",
   "source": "",
   "outputs": [],
   "execution_count": null
  }
 ],
 "metadata": {
  "kernelspec": {
   "display_name": "Kotlin",
   "language": "kotlin",
   "name": "kotlin"
  },
  "language_info": {
   "name": "kotlin",
   "version": "1.9.23",
   "mimetype": "text/x-kotlin",
   "file_extension": ".kt",
   "pygments_lexer": "kotlin",
   "codemirror_mode": "text/x-kotlin",
   "nbconvert_exporter": ""
  }
 },
 "nbformat": 4,
 "nbformat_minor": 0
}
